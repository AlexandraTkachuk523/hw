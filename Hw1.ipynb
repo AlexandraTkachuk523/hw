{
 "cells": [
  {
   "cell_type": "markdown",
   "metadata": {
    "colab_type": "text",
    "id": "view-in-github"
   },
   "source": [
    "<a href=\"https://colab.research.google.com/github/AnnSenina/Python_CL_2023/blob/main/homework/Hw1.ipynb\" target=\"_parent\"><img src=\"https://colab.research.google.com/assets/colab-badge.svg\" alt=\"Open In Colab\"/></a>"
   ]
  },
  {
   "cell_type": "markdown",
   "metadata": {
    "id": "cJrbXTJYj1Vx"
   },
   "source": [
    "#Домашняя работа 1\n",
    "Время на выполнение: **с 15 ноября по 30 ноября 2023**\n",
    "\n",
    "Сдача после 30.11.2023 возможна с понижением баллов"
   ]
  },
  {
   "cell_type": "markdown",
   "metadata": {
    "id": "_iLN1A20j8Dg"
   },
   "source": [
    "## Задача 1\n",
    "### Условный оператор if-elif-else\n",
    "\n",
    "В Вышке научились измерять душевную боль... (Это правда: [Источник](https://iq.hse.ru/news/760718471.html))\n",
    "\n",
    "Давайте тоже предложим свою шкалу!"
   ]
  },
  {
   "cell_type": "markdown",
   "metadata": {
    "id": "-3ReUhPtvDXk"
   },
   "source": [
    "В ячейке ниже - код \"определителя душевной боли\" от 1 до 10. Давайте его улучшим:\n",
    "\n",
    "* добавьте условие для случаев, если пользователь вводит число больше 10\n",
    "\n",
    "* добавьте еще два условия, чтобы разделение на категории душевной боли было еще точнее\n",
    "* добавьте к вещественным числам примеры, чтобы пользователю было легче оценить свою душевную боль (например, шкала от утреннего кофе, пролитого на рубашку, до студента на сессии...)\n",
    "\n",
    "Подсказка: будет легче, если нарисовать себе схему условий на бумаге\n",
    "\n"
   ]
  },
  {
   "cell_type": "code",
   "execution_count": 18,
   "metadata": {
    "id": "bK-muzTkuSrp"
   },
   "outputs": [
    {
     "name": "stdin",
     "output_type": "stream",
     "text": [
      "Оцените силу вашей душевной боли по шкале от 0 до 10:  1\n"
     ]
    },
    {
     "name": "stdout",
     "output_type": "stream",
     "text": [
      "Вы встревожены - почти как человек, которому придется звонить по телефону, и это в эпоху мессенджеров! То самое чувство, когда начинаете нервно репетировать в голове диалог...\n"
     ]
    }
   ],
   "source": [
    "# определитель душевной боли\n",
    "\n",
    "a = float(input('Оцените силу вашей душевной боли по шкале от 0 до 10: '))\n",
    "if a < 0.7:\n",
    "    print('Кажется, вы испытываете легкое огорчение. Как человек в короткой поездке в метро, забывший дома наушники')\n",
    "elif 0.7 <= a <= 4.2:\n",
    "    print('Вы встревожены - почти как человек, которому придется звонить по телефону, и это в эпоху мессенджеров! То самое чувство, когда начинаете нервно репетировать в голове диалог...')\n",
    "elif 4.2 < a <= 7.5:\n",
    "    print ('Что-то причиняет вам сильную душевную боль, как студент не сдавший сессию')\n",
    "elif 7.5 < a <= 10:\n",
    "    print('Высокий уровень душевной боли, как у человека, вынужденного отмечать Новый год в одиночестве')\n",
    "elif a > 10:\n",
    "    print('Введите число от 0 до 10')\n",
    "\n",
    "\n",
    "# продолжите программу дальше\n",
    "# примеры и значения выше можно заменить на ваши\n"
   ]
  },
  {
   "cell_type": "markdown",
   "metadata": {
    "id": "9sdH0TO1_m5G"
   },
   "source": [
    "## Задача 2\n",
    "### Список, цикл for\n",
    "\n",
    "Робот, выбирающий пользователю коктейль:\n",
    "\n",
    "Представьте, что Вы разрабатываете (фрагмент) электронного помощника для ресторана.\n",
    "\n",
    "У Вас есть список коктейлей, где каждый коктейль представлен в виде списка ингридиентов (у нас получается список списков). Программа рандомным образом должна выбрать один из коктейлей (т.е. один из списков в общем списке) и вывести на экран сообщение: \"Сегодня в вашем коктейле будет: \" и сам список ингридиентов\n",
    "\n",
    "Но есть одно условие: в некоторые из списков по ошибке попал \"лосось\". Строку \"лосось\" нужно убрать (здесь вам поможет один метод работы со списками) ,но так как лосось есть не везде, нужно предварительно проверить его наличие в списке."
   ]
  },
  {
   "cell_type": "code",
   "execution_count": 104,
   "metadata": {
    "id": "wLCxa1d2uUYs"
   },
   "outputs": [
    {
     "name": "stdout",
     "output_type": "stream",
     "text": [
      "Сегодня в вашем коктейле будет:, ром, авокадо, сахарный сироп, сливки, лимонный сок, лед\n"
     ]
    }
   ],
   "source": [
    "import random\n",
    "\n",
    "cocktails = [\n",
    "    [\"мартини\",\"грейпфрутовый сок\",\"жасмин\",\"тоник\",\"лосось\"],\n",
    "    [\"клубника\",\"какао\",\"мята\",\"марсала\"],\n",
    "    [\"водка\",\"томатный сок\",\"лимонный сок\",\"вустерширский соус\",\"черный перец\",\"сельдерей\",\"лосось\"],\n",
    "    [\"джин\",\"вермут\",\"ликер мараскино\",\"апельсины\",\"коктейльная вишня\",\"лосось\"],\n",
    "    [\"ром\",\"авокадо\",\"сахарный сироп\",\"сливки\",\"лимонный сок\",\"лед\"],\n",
    "    [\"красный вермут\",\"тоник\",\"апельсины\",\"лосось\"],\n",
    "    [\"только чай\"]\n",
    "    \n",
    "]\n",
    "cocktails = [[elem for elem in obj if elem != \"лосось\"] for obj in cocktails]\n",
    "print('Сегодня в вашем коктейле будет:', *random.choice(cocktails), sep=', ')\n",
    "\n",
    "# ваш код здесь"
   ]
  },
  {
   "cell_type": "markdown",
   "metadata": {
    "id": "840zUYgtxx_o"
   },
   "source": [
    "## Задача 3\n",
    "### Множества и словари"
   ]
  },
  {
   "cell_type": "markdown",
   "metadata": {
    "id": "p3pqApP1yFoY"
   },
   "source": [
    "Алиса коллекционирует открыткм, которые она получила из разных стран от друзей. Она знает, что Мария прислала ей открытку из Лондона, Лоренцо -- из Милана, Олег - из Канберры, Ханс -- из Кальгари, Марк -- тоже из Милана, Алекс - из Кракова, и совсем недавно пришла открытка от Юлии из Мурманска.\n",
    "\n",
    "Сейчас ее архив выглядит вот так:\n"
   ]
  },
  {
   "cell_type": "code",
   "execution_count": 117,
   "metadata": {
    "id": "Yqu617qHuYoq"
   },
   "outputs": [],
   "source": [
    "postcards = {\n",
    "    \"Maria\": \"London\",\n",
    "    \"Lorenzo\": \"Milan\",\n",
    "    \"Oleg\": \"Canberra\",\n",
    "    \"Hans\": \"Calgary\",\n",
    "    \"Mark\": \"Milan\",\n",
    "    \"Alex\": \"Krakow\",\n",
    "    \"Julia\": \"Murmansk\"\n",
    "}"
   ]
  },
  {
   "cell_type": "markdown",
   "metadata": {
    "id": "dB6o3dTayMWB"
   },
   "source": [
    "Однажды Алиса показала Вам свою бумажную коллекцию, и Вы заметили неточности:\n",
    "\n",
    "* в архиве не хватает двух открыток: от Петры из Парижа и от Ивана из Москвы. Добавьте их в архив Алисы.\n",
    "\n",
    "* открытка, присланная Олегом на самом деле не из Канберры, а из Сиднея. Исправьте город на верный, изменив значение по ключу в словаре.\n",
    "\n",
    "* Алиса говорит, что в ее коллекции более 10 уникальных городов. Сколько их на самом деле? Выведите названия этих городов."
   ]
  },
  {
   "cell_type": "code",
   "execution_count": 118,
   "metadata": {
    "id": "IyLVQu16uWNs"
   },
   "outputs": [
    {
     "name": "stdout",
     "output_type": "stream",
     "text": [
      "{'Maria': 'London', 'Lorenzo': 'Milan', 'Oleg': 'Canberra', 'Hans': 'Calgary', 'Mark': 'Milan', 'Alex': 'Krakow', 'Julia': 'Murmansk', 'Petra': 'Paris', 'Ivan': 'Moscow'}\n"
     ]
    }
   ],
   "source": [
    "# ваш код здесь\n",
    "new_postcards = {\"Petra\" : \"Paris\", \"Ivan\" : \"Moscow\"} \n",
    "postcards.update(new_postcards)\n",
    "print(postcards)"
   ]
  },
  {
   "cell_type": "code",
   "execution_count": 119,
   "metadata": {},
   "outputs": [
    {
     "name": "stdout",
     "output_type": "stream",
     "text": [
      "Canberra\n",
      "{'Maria': 'London', 'Lorenzo': 'Milan', 'Hans': 'Calgary', 'Mark': 'Milan', 'Alex': 'Krakow', 'Julia': 'Murmansk', 'Petra': 'Paris', 'Ivan': 'Moscow'}\n"
     ]
    }
   ],
   "source": [
    "print(postcards.pop(\"Oleg\"))\n",
    "print(postcards)\n"
   ]
  },
  {
   "cell_type": "code",
   "execution_count": 120,
   "metadata": {},
   "outputs": [
    {
     "name": "stdout",
     "output_type": "stream",
     "text": [
      "{'Maria': 'London', 'Lorenzo': 'Milan', 'Hans': 'Calgary', 'Mark': 'Milan', 'Alex': 'Krakow', 'Julia': 'Murmansk', 'Petra': 'Paris', 'Ivan': 'Moscow', 'Oleg': 'Sidney'}\n"
     ]
    }
   ],
   "source": [
    "new_postcards2 = {\"Oleg\" : \"Sidney\"} \n",
    "postcards.update(new_postcards2)\n",
    "print(postcards)"
   ]
  },
  {
   "cell_type": "code",
   "execution_count": 144,
   "metadata": {},
   "outputs": [
    {
     "name": "stdout",
     "output_type": "stream",
     "text": [
      "9\n",
      "8\n"
     ]
    }
   ],
   "source": [
    "print(len(postcards.values()))  # всего 9 открыток, без учета уникальности\n",
    "\n",
    "set(postcards.values())\n",
    "\n",
    "print(len(set(postcards.values()))) # 8 уникальных открыток\n"
   ]
  }
 ],
 "metadata": {
  "colab": {
   "include_colab_link": true,
   "provenance": []
  },
  "kernelspec": {
   "display_name": "Python 3 (ipykernel)",
   "language": "python",
   "name": "python3"
  },
  "language_info": {
   "codemirror_mode": {
    "name": "ipython",
    "version": 3
   },
   "file_extension": ".py",
   "mimetype": "text/x-python",
   "name": "python",
   "nbconvert_exporter": "python",
   "pygments_lexer": "ipython3",
   "version": "3.12.0"
  }
 },
 "nbformat": 4,
 "nbformat_minor": 4
}
